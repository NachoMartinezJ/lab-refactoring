{
 "cells": [
  {
   "cell_type": "code",
   "execution_count": 1,
   "metadata": {},
   "outputs": [],
   "source": [
    "import random\n",
    "import sys"
   ]
  },
  {
   "cell_type": "code",
   "execution_count": 2,
   "metadata": {},
   "outputs": [],
   "source": [
    "# We define the deck the players will use\n",
    "face_cards = {'A':[11, 1], 'K': 10, 'Q': 10, 'J': 10}\n",
    "useful_deck = ['A', 'K', 'Q', 'J', 10, 9, 8, 7, 6, 5, 4, 3, 2]\n"
   ]
  },
  {
   "cell_type": "code",
   "execution_count": 3,
   "metadata": {},
   "outputs": [],
   "source": [
    "# Define the player and the dealer, they will store the points of the cards dealt to them.\n"
   ]
  },
  {
   "cell_type": "code",
   "execution_count": 4,
   "metadata": {},
   "outputs": [],
   "source": [
    "# First we ask the user to place the bet.\n",
    "def place_bet():\n",
    "    user_input = input('Please, introduce your bet: ')\n",
    "    \n",
    "    if(user_input.isdigit()):\n",
    "        return int(user_input)    \n",
    "    else:\n",
    "        print('You introduced a non valid character. Please introduce a number')"
   ]
  },
  {
   "cell_type": "code",
   "execution_count": 5,
   "metadata": {},
   "outputs": [],
   "source": [
    "# Deal the first two cards.\n",
    "def deal_first_hand():\n",
    "    return [random.choice(useful_deck) for i in range(2)]"
   ]
  },
  {
   "cell_type": "code",
   "execution_count": 6,
   "metadata": {},
   "outputs": [],
   "source": [
    "# Deal an additional card.\n",
    "def deal_card():\n",
    "    return random.choice(useful_deck)"
   ]
  },
  {
   "cell_type": "code",
   "execution_count": 7,
   "metadata": {},
   "outputs": [],
   "source": [
    "# Choose value of Ace, we'll use it when asking the player which value does he want for the Ace.\n",
    "def parse_ace_value(hand, value):\n",
    "    for i in range(len(hand)):\n",
    "        if(hand[i] == 'A'):\n",
    "            hand[i] = value\n",
    "    "
   ]
  },
  {
   "cell_type": "code",
   "execution_count": 8,
   "metadata": {},
   "outputs": [],
   "source": [
    "# Check natural blackjack, we parse Ace to 11 automatically.\n",
    "def natural_blackjack(hand):\n",
    "    if(check_score(hand) == 21):\n",
    "        parse_ace_value(hand, 11)\n",
    "        parse_face_cards(hand)\n",
    "    return sum(hand[:2]) == 21\n"
   ]
  },
  {
   "cell_type": "code",
   "execution_count": 9,
   "metadata": {},
   "outputs": [],
   "source": [
    "# Check if player has two cards of the same denomination.\n",
    "def check_denomination(hand):\n",
    "    return hand[0] == hand[1]\n"
   ]
  },
  {
   "cell_type": "code",
   "execution_count": 10,
   "metadata": {},
   "outputs": [],
   "source": [
    "# Check if player's cards sum 9, 10 or 11\n",
    "def check_double_down(hand):\n",
    "    result = sum(hand[:2])\n",
    "    return result == 9 or result == 10 or result == 11"
   ]
  },
  {
   "cell_type": "code",
   "execution_count": 11,
   "metadata": {},
   "outputs": [],
   "source": [
    "# Sum the value of the cards\n",
    "def check_score(hand):\n",
    "    if('A' in hand):\n",
    "        p_input = int(input(\"Would you like your ace to be a 1 or an 11? \"))\n",
    "        parse_ace_value(hand, p_input)\n",
    "    parse_face_cards(hand)\n",
    "    return sum(hand)\n"
   ]
  },
  {
   "cell_type": "code",
   "execution_count": 12,
   "metadata": {},
   "outputs": [],
   "source": [
    "# Compare the hand of the dealer and the player.\n",
    "def compare_hands(p_hand, d_hand, player_wins, dealer_wins, tie):\n",
    "    p_score = check_score(p_hand)\n",
    "    d_score = check_score(d_hand)\n",
    "\n",
    "    if (p_score > 21):\n",
    "        print(\"You bust with %d points. Dealer wins\" % p_score)\n",
    "        dealer_wins = True\n",
    "    if (d_score > 21):\n",
    "        print(\"Dealer busts with %d points. Players wins\" % d_score)\n",
    "        player_wins = True\n",
    "    if (p_score == d_score):\n",
    "        print(\"There has been a tie. Player points: %d and hand: %s. Dealer points: %d and hand: %s\" % (\n",
    "        p_score, p_hand, d_score, d_hand))\n",
    "        tie = True\n",
    "        \n",
    "    if (p_score > d_score):\n",
    "        print(\"Player wins with %d points with the hand %s\" % (p_score, p_hand))\n",
    "        player_wins = True\n",
    "\n",
    "    if (p_score < d_score):\n",
    "        print(\"Dealer wins with %d points with the hand %s\" % (d_score, d_hand))\n",
    "        dealer_wins = True"
   ]
  },
  {
   "cell_type": "code",
   "execution_count": 13,
   "metadata": {},
   "outputs": [],
   "source": [
    "# Check if the player has less than 21 points, to give him a new card.\n",
    "def hit(hand):\n",
    "    new_card = deal_card()\n",
    "    \n",
    "    if(check_score(hand) < 21):\n",
    "        hand.append(new_card)\n",
    "        return new_card\n",
    "    \n",
    "    else:\n",
    "        print(\"You cannot ask for more cards\")"
   ]
  },
  {
   "cell_type": "code",
   "execution_count": 14,
   "metadata": {},
   "outputs": [],
   "source": [
    "# Change the value of the face cards, minus the ace, to its point value.\n",
    "def parse_face_cards(hand):\n",
    "    for i in range(len(hand)):\n",
    "        if(hand[i] == 'K'):\n",
    "            hand[i] = face_cards['K']\n",
    "            \n",
    "        if(hand[i] == 'Q'):\n",
    "            hand[i] = face_cards['Q']\n",
    "            \n",
    "        if(hand[i] == 'J'):\n",
    "            hand[i] = face_cards['J']\n",
    "    "
   ]
  },
  {
   "cell_type": "code",
   "execution_count": 15,
   "metadata": {},
   "outputs": [],
   "source": [
    "def dealer_play(hand):\n",
    "    while(check_score(hand) <= 14):\n",
    "        hit(hand)\n",
    "    print(\"Dealer's hand: \", hand)\n",
    "    return hand"
   ]
  },
  {
   "cell_type": "code",
   "execution_count": 20,
   "metadata": {},
   "outputs": [],
   "source": [
    "def play():\n",
    "    bet = place_bet()\n",
    "    player_hand = []\n",
    "    dealer_hand = [9, 'A']\n",
    "    player_wins = False\n",
    "    dealer_wins = False\n",
    "    tie = False\n",
    "    response = 'Y'\n",
    "    double_down = False\n",
    "    \n",
    "    if(bet == None):\n",
    "        print(\"Program ending\")\n",
    "    else:\n",
    "        player_hand = deal_first_hand()\n",
    "        print(\"Player's hand:\", player_hand)        \n",
    "        #dealer_hand = deal_first_hand()\n",
    "        print(\"Dealer's hand:\", dealer_hand[0])\n",
    "        \n",
    "        \n",
    "        if(natural_blackjack(player_hand)):\n",
    "            print(\"Player wins with a natural blackjack!\", player_hand)\n",
    "            \n",
    "        elif(natural_blackjack(dealer_hand)):\n",
    "            parse_natural_blackjack()\n",
    "            print(\"Dealer wins with a natural blackjack!\", dealer_hand)\n",
    "            \n",
    "        else:\n",
    "            if(check_double_down(player_hand)):\n",
    "                response = input(\"Would you like to double down? (Y/N):\")\n",
    "                \n",
    "                if(response == 'Y'):\n",
    "                    bet += bet\n",
    "                    double_down = True\n",
    "                    print(\"Your bet has doubled, now you're playing with: %d\" %bet)\n",
    "                    \n",
    "                elif(response == 'N'):\n",
    "                    print(\"Your bet stays the same\")\n",
    "                    \n",
    "                else:\n",
    "                    print(\"Invalid input, please introduce 'Y' or 'N' next time.\")\n",
    "                    sys.exit()\n",
    "                \n",
    "           \n",
    "            response = 'Y'\n",
    "            while(response == 'Y'):\n",
    "                response = input(\"Would you like another card? (Y/N): \")\n",
    "                \n",
    "                if (response == 'Y' and check_score(player_hand) <= 21):\n",
    "                    hit(player_hand)\n",
    "                    print(\"Player's hand:\",player_hand)\n",
    "                    if (double_down):\n",
    "                        break;\n",
    "                    if (check_score(player_hand) > 21):\n",
    "                        print(\"You bust with %d points. Dealer wins\" %check_score(player_hand))\n",
    "                        break;\n",
    "                        \n",
    "                elif(response != 'Y' and response != 'N'):\n",
    "                    print(\"Invalid input, please introduce 'Y' or 'N' next time.\")\n",
    "\n",
    "    \n",
    "            dealer_play(dealer_hand)\n",
    "            print(\"Player's hand: \", player_hand)\n",
    "            p_score = check_score(player_hand)\n",
    "            d_score = check_score(dealer_hand)\n",
    "                    \n",
    "            if (p_score > 21):\n",
    "                print(\"You bust with %d points. Dealer wins\" % p_score)\n",
    "                    \n",
    "            elif (d_score > 21):\n",
    "                print(\"Dealer busts with %d points. Players wins\" % d_score)\n",
    "                    \n",
    "            elif (p_score == d_score):\n",
    "                print(\"There has been a tie. Player points: %d and hand: %s. Dealer points: %d and hand: %s\" % (\n",
    "                p_score, player_hand, d_score, dealer_hand))\n",
    "        \n",
    "            elif (p_score > d_score):\n",
    "                print(\"Player wins with %d points with the hand %s\" % (p_score, player_hand))\n",
    "\n",
    "            elif (p_score < d_score):\n",
    "                print(\"Dealer wins with %d points with the hand %s\" % (d_score, dealer_hand))\n",
    "                        \n",
    "                \n",
    "                 \n",
    "            "
   ]
  },
  {
   "cell_type": "code",
   "execution_count": null,
   "metadata": {},
   "outputs": [
    {
     "name": "stdout",
     "output_type": "stream",
     "text": [
      "Please, introduce your bet: 1000\n",
      "[5, 9]\n",
      "9\n",
      "Would you like your ace to be a 1 or an 11? 11\n"
     ]
    }
   ],
   "source": [
    "play()"
   ]
  },
  {
   "cell_type": "code",
   "execution_count": null,
   "metadata": {},
   "outputs": [],
   "source": []
  }
 ],
 "metadata": {
  "kernelspec": {
   "display_name": "Python 3",
   "language": "python",
   "name": "python3"
  },
  "language_info": {
   "codemirror_mode": {
    "name": "ipython",
    "version": 3
   },
   "file_extension": ".py",
   "mimetype": "text/x-python",
   "name": "python",
   "nbconvert_exporter": "python",
   "pygments_lexer": "ipython3",
   "version": "3.7.2"
  }
 },
 "nbformat": 4,
 "nbformat_minor": 2
}
